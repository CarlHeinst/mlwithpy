{
 "cells": [
  {
   "cell_type": "code",
   "execution_count": 12,
   "metadata": {},
   "outputs": [
    {
     "data": {
      "text/plain": [
       "array([[ 8506.558],\n",
       "       [ 9343.548],\n",
       "       [ 9858.302],\n",
       "       [11191.287],\n",
       "       [15777.716],\n",
       "       [18522.101],\n",
       "       [19748.939],\n",
       "       [20155.066],\n",
       "       [20571.752],\n",
       "       [23209.596],\n",
       "       [23310.758],\n",
       "       [23514.22 ],\n",
       "       [26621.349],\n",
       "       [30631.329],\n",
       "       [31936.729],\n",
       "       [33352.93 ],\n",
       "       [41021.249],\n",
       "       [41988.602],\n",
       "       [42144.011],\n",
       "       [42310.035],\n",
       "       [42472.707],\n",
       "       [46366.4  ],\n",
       "       [46419.227],\n",
       "       [47785.508],\n",
       "       [49897.01 ],\n",
       "       [51348.946],\n",
       "       [53004.474],\n",
       "       [53016.389],\n",
       "       [55421.326]])"
      ]
     },
     "execution_count": 12,
     "metadata": {},
     "output_type": "execute_result"
    }
   ],
   "source": [
    "import matplotlib.pyplot as plt\n",
    "import numpy as np\n",
    "import pandas as pd\n",
    "import sklearn.linear_model\n",
    "\n",
    "def prepare_country_stats(oecd_bli, gdp_per_capita, year):\n",
    "    oecd_bli = oecd_bli[oecd_bli[\"INEQUALITY\"]==\"TOT\"]\n",
    "    oecd_bli = oecd_bli.pivot(index=\"Country\", columns=\"Indicator\", values=\"Value\")\n",
    "    gdp_per_capita.rename(columns={year: \"GDP per capita\"}, inplace=True)\n",
    "    gdp_per_capita.set_index(\"Country\", inplace=True)\n",
    "    full_country_stats = pd.merge(left=oecd_bli, right=gdp_per_capita, left_index=True, right_index=True)\n",
    "    full_country_stats.sort_values(by=\"GDP per capita\", inplace=True)\n",
    "    remove_indices = [0, 1, 6, 8, 33, 34, 35]\n",
    "    keep_indices = list(set(range(36)) - set(remove_indices))\n",
    "    return full_country_stats[[\"GDP per capita\", 'Life satisfaction']].iloc[keep_indices]\n",
    "\n",
    "# Load the data\n",
    "oecd_bli = pd.read_csv(\"oecd_blie_2019.csv\", thousands=',')\n",
    "gdp_per_capita = pd.read_csv(\"WEO_Data.tsv\", thousands=',', delimiter='\\t', encoding='latin1', na_values=\"n/a\")\n",
    "\n",
    "## Prepare the data and run the missing dumb asses function\n",
    "country_stats = prepare_country_stats(oecd_bli, gdp_per_capita, \"2019\")\n",
    "X = np.c_[country_stats[\"GDP per capita\"]]\n",
    "y = np.c_[country_stats[\"Life satisfaction\"]]\n"
   ]
  },
  {
   "cell_type": "code",
   "execution_count": null,
   "metadata": {},
   "outputs": [],
   "source": []
  },
  {
   "cell_type": "code",
   "execution_count": null,
   "metadata": {},
   "outputs": [],
   "source": []
  }
 ],
 "metadata": {
  "kernelspec": {
   "display_name": "Python 3",
   "language": "python",
   "name": "python3"
  },
  "language_info": {
   "codemirror_mode": {
    "name": "ipython",
    "version": 3
   },
   "file_extension": ".py",
   "mimetype": "text/x-python",
   "name": "python",
   "nbconvert_exporter": "python",
   "pygments_lexer": "ipython3",
   "version": "3.7.2"
  }
 },
 "nbformat": 4,
 "nbformat_minor": 4
}
